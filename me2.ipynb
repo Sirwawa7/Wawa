{
  "cells": [
    {
      "cell_type": "markdown",
      "metadata": {
        "id": "view-in-github",
        "colab_type": "text"
      },
      "source": [
        "<a href=\"https://colab.research.google.com/github/Sirwawa7/Wawa/blob/main/me2.ipynb\" target=\"_parent\"><img src=\"https://colab.research.google.com/assets/colab-badge.svg\" alt=\"Open In Colab\"/></a>"
      ]
    },
    {
      "cell_type": "code",
      "execution_count": 4,
      "id": "28926808",
      "metadata": {
        "id": "28926808"
      },
      "outputs": [],
      "source": [
        "\n",
        "with open('/content/drive/MyDrive/BigData/bible.txt', 'r') as f:\n",
        "    text = f.read()\n",
        "\n",
        "text_upper = text.upper()\n",
        "\n",
        "with open('/content/drive/MyDrive/BigData/bible uppercase.txt', 'w') as f:\n",
        "    f.write(text_upper)"
      ]
    },
    {
      "cell_type": "code",
      "source": [
        "from google.colab import drive\n",
        "drive.mount('/content/drive')"
      ],
      "metadata": {
        "colab": {
          "base_uri": "https://localhost:8080/"
        },
        "id": "lpvguenu0ab5",
        "outputId": "3fdac0ca-b1c0-4d2f-94f7-83fd5edd9365"
      },
      "id": "lpvguenu0ab5",
      "execution_count": 5,
      "outputs": [
        {
          "output_type": "stream",
          "name": "stdout",
          "text": [
            "Drive already mounted at /content/drive; to attempt to forcibly remount, call drive.mount(\"/content/drive\", force_remount=True).\n"
          ]
        }
      ]
    },
    {
      "cell_type": "code",
      "execution_count": 6,
      "id": "dfdadb98",
      "metadata": {
        "colab": {
          "base_uri": "https://localhost:8080/"
        },
        "id": "dfdadb98",
        "outputId": "5e64f5ed-90b4-4dd4-b90b-016655a4d9f1"
      },
      "outputs": [
        {
          "output_type": "stream",
          "name": "stdout",
          "text": [
            "Word count using for loop: 766111\n"
          ]
        }
      ],
      "source": [
        "with open('/content/drive/MyDrive/BigData/bible uppercase.txt', 'r') as f:\n",
        "    text = f.read()\n",
        "\n",
        "word_count = 0\n",
        "for word in text.split():\n",
        "    word_count += 1\n",
        "\n",
        "print(f\"Word count using for loop: {word_count}\")"
      ]
    },
    {
      "cell_type": "code",
      "execution_count": 7,
      "id": "2c953839",
      "metadata": {
        "colab": {
          "base_uri": "https://localhost:8080/"
        },
        "id": "2c953839",
        "outputId": "ebd9d2a3-97f1-4901-8afd-18a1aa465b9e"
      },
      "outputs": [
        {
          "output_type": "stream",
          "name": "stdout",
          "text": [
            "Word count using map: 766111\n"
          ]
        }
      ],
      "source": [
        "with open('/content/drive/MyDrive/BigData/bible uppercase.txt', 'r') as f:\n",
        "    text = f.read()\n",
        "\n",
        "word_count = len(list(map(str.strip, text.split())))\n",
        "\n",
        "print(f\"Word count using map: {word_count}\")"
      ]
    },
    {
      "cell_type": "code",
      "execution_count": 8,
      "id": "2940e31e",
      "metadata": {
        "colab": {
          "base_uri": "https://localhost:8080/"
        },
        "id": "2940e31e",
        "outputId": "76b6ef75-8db8-4ecc-d583-eee473524c89"
      },
      "outputs": [
        {
          "output_type": "stream",
          "name": "stdout",
          "text": [
            "Word count using multiprocessing: 766111\n"
          ]
        }
      ],
      "source": [
        "import multiprocessing\n",
        "\n",
        "def count_words(text):\n",
        "    return len(list(map(str.strip, text.split())))\n",
        "\n",
        "with open('/content/drive/MyDrive/BigData/bible uppercase.txt', 'r') as f:\n",
        "    text = f.read()\n",
        "\n",
        "pool = multiprocessing.Pool()\n",
        "word_counts = pool.map(count_words, [text])\n",
        "pool.close()\n",
        "pool.join()\n",
        "\n",
        "print(f\"Word count using multiprocessing: {word_counts[0]}\")"
      ]
    },
    {
      "cell_type": "code",
      "execution_count": null,
      "id": "bb7c5365",
      "metadata": {
        "id": "bb7c5365"
      },
      "outputs": [],
      "source": []
    }
  ],
  "metadata": {
    "kernelspec": {
      "display_name": "Python 3 (ipykernel)",
      "language": "python",
      "name": "python3"
    },
    "language_info": {
      "codemirror_mode": {
        "name": "ipython",
        "version": 3
      },
      "file_extension": ".py",
      "mimetype": "text/x-python",
      "name": "python",
      "nbconvert_exporter": "python",
      "pygments_lexer": "ipython3",
      "version": "3.9.13"
    },
    "colab": {
      "provenance": [],
      "include_colab_link": true
    }
  },
  "nbformat": 4,
  "nbformat_minor": 5
}